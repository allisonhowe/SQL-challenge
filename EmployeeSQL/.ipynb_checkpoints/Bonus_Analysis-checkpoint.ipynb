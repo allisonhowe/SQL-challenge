{
 "cells": [
  {
   "cell_type": "code",
   "execution_count": 1,
   "metadata": {},
   "outputs": [],
   "source": [
    "# Python dependencies\n",
    "import pandas as pd\n",
    "import matplotlib.pyplot as plt\n",
    "\n",
    "# SQL Alchemy\n",
    "from sqlalchemy import create_engine"
   ]
  },
  {
   "cell_type": "code",
   "execution_count": 2,
   "metadata": {},
   "outputs": [],
   "source": [
    "# Create Engine\n",
    "engine = create_engine('postgresql://localhost:5432/homework_db')\n",
    "\n",
    "connection = engine.connect()"
   ]
  },
  {
   "cell_type": "code",
   "execution_count": 3,
   "metadata": {},
   "outputs": [],
   "source": [
    "# Query All Records in the the Salaries Database\n",
    "salary_df = pd.read_sql(\"select * from salaries\", connection).set_index(['emp_no'])"
   ]
  },
  {
   "cell_type": "code",
   "execution_count": 4,
   "metadata": {},
   "outputs": [
    {
     "data": {
      "text/plain": [
       "Text(0.5, 0, 'Salary')"
      ]
     },
     "execution_count": 4,
     "metadata": {},
     "output_type": "execute_result"
    },
    {
     "data": {
      "image/png": "[encoded data removed]",
      "text/plain": [
       "<Figure size 576x360 with 1 Axes>"
      ]
     },
     "metadata": {
      "needs_background": "light"
     },
     "output_type": "display_data"
    }
   ],
   "source": [
    "# Create a histogram to visualize the most common salary ranges for employees.\n",
    "salary_df.plot.hist(bins = 6, alpha=0.5, figsize=(8,5))\n",
    "plt.title(\"Salary Range Distribution\")\n",
    "plt.xlabel(\"Salary\")"
   ]
  },
  {
   "cell_type": "code",
   "execution_count": 5,
   "metadata": {},
   "outputs": [],
   "source": [
    "# Query All Records in the the Employees Database\n",
    "emp_df = pd.read_sql(\"select * from employees\", connection).set_index(['emp_no'])\n",
    "\n",
    "# # Query All Records in the the Titles Database\n",
    "title_df = pd.read_sql(\"select * from titles\", connection).set_index(['title_id'])"
   ]
  },
  {
   "cell_type": "code",
   "execution_count": 6,
   "metadata": {},
   "outputs": [
    {
     "data": {
      "text/html": [
       "<div>\n",
       "<style scoped>\n",
       "    .dataframe tbody tr th:only-of-type {\n",
       "        vertical-align: middle;\n",
       "    }\n",
       "\n",
       "    .dataframe tbody tr th {\n",
       "        vertical-align: top;\n",
       "    }\n",
       "\n",
       "    .dataframe thead th {\n",
       "        text-align: right;\n",
       "    }\n",
       "</style>\n",
       "<table border=\"1\" class=\"dataframe\">\n",
       "  <thead>\n",
       "    <tr style=\"text-align: right;\">\n",
       "      <th></th>\n",
       "      <th>title_id</th>\n",
       "      <th>birth_date</th>\n",
       "      <th>first_name</th>\n",
       "      <th>last_name</th>\n",
       "      <th>sex</th>\n",
       "      <th>hire_date</th>\n",
       "      <th>salary</th>\n",
       "      <th>title</th>\n",
       "    </tr>\n",
       "  </thead>\n",
       "  <tbody>\n",
       "    <tr>\n",
       "      <th>0</th>\n",
       "      <td>s0001</td>\n",
       "      <td>1953-07-25</td>\n",
       "      <td>Hideyuki</td>\n",
       "      <td>Zallocco</td>\n",
       "      <td>M</td>\n",
       "      <td>1990-04-28</td>\n",
       "      <td>40000</td>\n",
       "      <td>Staff</td>\n",
       "    </tr>\n",
       "    <tr>\n",
       "      <th>1</th>\n",
       "      <td>s0001</td>\n",
       "      <td>1957-09-28</td>\n",
       "      <td>Xiong</td>\n",
       "      <td>Verhoeff</td>\n",
       "      <td>M</td>\n",
       "      <td>1987-11-26</td>\n",
       "      <td>40000</td>\n",
       "      <td>Staff</td>\n",
       "    </tr>\n",
       "    <tr>\n",
       "      <th>2</th>\n",
       "      <td>s0001</td>\n",
       "      <td>1957-04-14</td>\n",
       "      <td>Christoph</td>\n",
       "      <td>Parfitt</td>\n",
       "      <td>M</td>\n",
       "      <td>1991-06-28</td>\n",
       "      <td>56087</td>\n",
       "      <td>Staff</td>\n",
       "    </tr>\n",
       "    <tr>\n",
       "      <th>3</th>\n",
       "      <td>s0001</td>\n",
       "      <td>1958-03-23</td>\n",
       "      <td>Subbu</td>\n",
       "      <td>Bultermann</td>\n",
       "      <td>F</td>\n",
       "      <td>1988-03-25</td>\n",
       "      <td>87084</td>\n",
       "      <td>Staff</td>\n",
       "    </tr>\n",
       "    <tr>\n",
       "      <th>4</th>\n",
       "      <td>s0001</td>\n",
       "      <td>1964-01-19</td>\n",
       "      <td>Venkatesan</td>\n",
       "      <td>Gilg</td>\n",
       "      <td>M</td>\n",
       "      <td>1993-06-28</td>\n",
       "      <td>63016</td>\n",
       "      <td>Staff</td>\n",
       "    </tr>\n",
       "    <tr>\n",
       "      <th>...</th>\n",
       "      <td>...</td>\n",
       "      <td>...</td>\n",
       "      <td>...</td>\n",
       "      <td>...</td>\n",
       "      <td>...</td>\n",
       "      <td>...</td>\n",
       "      <td>...</td>\n",
       "      <td>...</td>\n",
       "    </tr>\n",
       "    <tr>\n",
       "      <th>300019</th>\n",
       "      <td>m0001</td>\n",
       "      <td>1959-11-09</td>\n",
       "      <td>Arie</td>\n",
       "      <td>Staelin</td>\n",
       "      <td>M</td>\n",
       "      <td>1985-01-01</td>\n",
       "      <td>72446</td>\n",
       "      <td>Manager</td>\n",
       "    </tr>\n",
       "    <tr>\n",
       "      <th>300020</th>\n",
       "      <td>m0001</td>\n",
       "      <td>1955-03-16</td>\n",
       "      <td>Hauke</td>\n",
       "      <td>Zhang</td>\n",
       "      <td>M</td>\n",
       "      <td>1986-12-30</td>\n",
       "      <td>71148</td>\n",
       "      <td>Manager</td>\n",
       "    </tr>\n",
       "    <tr>\n",
       "      <th>300021</th>\n",
       "      <td>m0001</td>\n",
       "      <td>1959-10-28</td>\n",
       "      <td>Ebru</td>\n",
       "      <td>Alpin</td>\n",
       "      <td>M</td>\n",
       "      <td>1985-01-01</td>\n",
       "      <td>60026</td>\n",
       "      <td>Manager</td>\n",
       "    </tr>\n",
       "    <tr>\n",
       "      <th>300022</th>\n",
       "      <td>m0001</td>\n",
       "      <td>1953-10-04</td>\n",
       "      <td>Shem</td>\n",
       "      <td>Kieras</td>\n",
       "      <td>M</td>\n",
       "      <td>1988-10-14</td>\n",
       "      <td>40000</td>\n",
       "      <td>Manager</td>\n",
       "    </tr>\n",
       "    <tr>\n",
       "      <th>300023</th>\n",
       "      <td>m0001</td>\n",
       "      <td>1956-06-14</td>\n",
       "      <td>Marjo</td>\n",
       "      <td>Giarratana</td>\n",
       "      <td>F</td>\n",
       "      <td>1988-02-12</td>\n",
       "      <td>40000</td>\n",
       "      <td>Manager</td>\n",
       "    </tr>\n",
       "  </tbody>\n",
       "</table>\n",
       "<p>300024 rows × 8 columns</p>\n",
       "</div>"
      ],
      "text/plain": [
       "       title_id  birth_date  first_name   last_name sex   hire_date  salary  \\\n",
       "0         s0001  1953-07-25    Hideyuki    Zallocco   M  1990-04-28   40000   \n",
       "1         s0001  1957-09-28       Xiong    Verhoeff   M  1987-11-26   40000   \n",
       "2         s0001  1957-04-14   Christoph     Parfitt   M  1991-06-28   56087   \n",
       "3         s0001  1958-03-23       Subbu  Bultermann   F  1988-03-25   87084   \n",
       "4         s0001  1964-01-19  Venkatesan        Gilg   M  1993-06-28   63016   \n",
       "...         ...         ...         ...         ...  ..         ...     ...   \n",
       "300019    m0001  1959-11-09        Arie     Staelin   M  1985-01-01   72446   \n",
       "300020    m0001  1955-03-16       Hauke       Zhang   M  1986-12-30   71148   \n",
       "300021    m0001  1959-10-28        Ebru       Alpin   M  1985-01-01   60026   \n",
       "300022    m0001  1953-10-04        Shem      Kieras   M  1988-10-14   40000   \n",
       "300023    m0001  1956-06-14       Marjo  Giarratana   F  1988-02-12   40000   \n",
       "\n",
       "          title  \n",
       "0         Staff  \n",
       "1         Staff  \n",
       "2         Staff  \n",
       "3         Staff  \n",
       "4         Staff  \n",
       "...         ...  \n",
       "300019  Manager  \n",
       "300020  Manager  \n",
       "300021  Manager  \n",
       "300022  Manager  \n",
       "300023  Manager  \n",
       "\n",
       "[300024 rows x 8 columns]"
      ]
     },
     "execution_count": 6,
     "metadata": {},
     "output_type": "execute_result"
    }
   ],
   "source": [
    "# Merge employees & salary df on employee number\n",
    "combined_df = pd.merge(emp_df, salary_df, on=\"emp_no\", how=\"inner\")\n",
    "combined_df.rename(columns = {'emp_title_id':'title_id'}, inplace = True)\n",
    "\n",
    "# Merge combined_df & title df on title_id\n",
    "combined_df = pd.merge(combined_df, title_df, on=\"title_id\", how=\"inner\")\n",
    "\n",
    "combined_df"
   ]
  },
  {
   "cell_type": "code",
   "execution_count": 7,
   "metadata": {},
   "outputs": [
    {
     "data": {
      "image/png": "[encoded data removed]",
      "text/plain": [
       "<Figure size 576x360 with 1 Axes>"
      ]
     },
     "metadata": {
      "needs_background": "light"
     },
     "output_type": "display_data"
    },
    {
     "data": {
      "text/plain": [
       "<Figure size 432x288 with 0 Axes>"
      ]
     },
     "metadata": {},
     "output_type": "display_data"
    }
   ],
   "source": [
    "# Create a bar chart of average salary by title.\n",
    "\n",
    "average_salary = combined_df.groupby('title')['salary'].mean()\n",
    "\n",
    "average_salary.plot(kind = \"bar\", figsize = (8,5))\n",
    "plt.title(\"Average Salary by Title\")\n",
    "plt.xlabel(\"Job Title\")\n",
    "plt.ylabel(\"Average Salary\")\n",
    "plt.show()\n",
    "plt.tight_layout()"
   ]
  },
  {
   "cell_type": "code",
   "execution_count": null,
   "metadata": {},
   "outputs": [],
   "source": []
  }
 ],
 "metadata": {
  "kernelspec": {
   "display_name": "Python 3",
   "language": "python",
   "name": "python3"
  },
  "language_info": {
   "codemirror_mode": {
    "name": "ipython",
    "version": 3
   },
   "file_extension": ".py",
   "mimetype": "text/x-python",
   "name": "python",
   "nbconvert_exporter": "python",
   "pygments_lexer": "ipython3",
   "version": "3.7.6"
  }
 },
 "nbformat": 4,
 "nbformat_minor": 4
}
